{
 "cells": [
  {
   "cell_type": "code",
   "execution_count": 2,
   "metadata": {},
   "outputs": [],
   "source": [
    "import requests\n",
    "import pandas as pd\n",
    "import matplotlib.pyplot as plt\n",
    "import seaborn as sns\n",
    "import numpy as np\n",
    "import scipy\n",
    "import pickle\n",
    "import warnings\n",
    "\n",
    "warnings.filterwarnings('ignore')\n",
    "sns.set_style(\"darkgrid\")\n",
    "%matplotlib inline"
   ]
  },
  {
   "cell_type": "code",
   "execution_count": 3,
   "metadata": {},
   "outputs": [],
   "source": [
    "us_data = pickle.load(open( \"us_data_final.p\", \"rb\" ))"
   ]
  },
  {
   "cell_type": "code",
   "execution_count": 4,
   "metadata": {},
   "outputs": [
    {
     "data": {
      "text/html": [
       "<div>\n",
       "<style scoped>\n",
       "    .dataframe tbody tr th:only-of-type {\n",
       "        vertical-align: middle;\n",
       "    }\n",
       "\n",
       "    .dataframe tbody tr th {\n",
       "        vertical-align: top;\n",
       "    }\n",
       "\n",
       "    .dataframe thead th {\n",
       "        text-align: right;\n",
       "    }\n",
       "</style>\n",
       "<table border=\"1\" class=\"dataframe\">\n",
       "  <thead>\n",
       "    <tr style=\"text-align: right;\">\n",
       "      <th></th>\n",
       "      <th>Housing</th>\n",
       "      <th>Cost of Living</th>\n",
       "      <th>Startups</th>\n",
       "      <th>Venture Capital</th>\n",
       "      <th>Travel Connectivity</th>\n",
       "      <th>Commute</th>\n",
       "      <th>Business Freedom</th>\n",
       "      <th>Safety</th>\n",
       "      <th>Healthcare</th>\n",
       "      <th>Education</th>\n",
       "      <th>Environmental Quality</th>\n",
       "      <th>Economy</th>\n",
       "      <th>Taxation</th>\n",
       "      <th>Internet Access</th>\n",
       "      <th>Leisure &amp; Culture</th>\n",
       "      <th>Tolerance</th>\n",
       "      <th>Outdoors</th>\n",
       "      <th>Graduation Percentage</th>\n",
       "      <th>Locations</th>\n",
       "    </tr>\n",
       "    <tr>\n",
       "      <th>City Name</th>\n",
       "      <th></th>\n",
       "      <th></th>\n",
       "      <th></th>\n",
       "      <th></th>\n",
       "      <th></th>\n",
       "      <th></th>\n",
       "      <th></th>\n",
       "      <th></th>\n",
       "      <th></th>\n",
       "      <th></th>\n",
       "      <th></th>\n",
       "      <th></th>\n",
       "      <th></th>\n",
       "      <th></th>\n",
       "      <th></th>\n",
       "      <th></th>\n",
       "      <th></th>\n",
       "      <th></th>\n",
       "      <th></th>\n",
       "    </tr>\n",
       "  </thead>\n",
       "  <tbody>\n",
       "    <tr>\n",
       "      <th>Albuquerque</th>\n",
       "      <td>7.2620</td>\n",
       "      <td>6.059</td>\n",
       "      <td>3.7720</td>\n",
       "      <td>1.493</td>\n",
       "      <td>1.4555</td>\n",
       "      <td>5.05575</td>\n",
       "      <td>8.671</td>\n",
       "      <td>1.3435</td>\n",
       "      <td>8.508667</td>\n",
       "      <td>4.1520</td>\n",
       "      <td>7.31950</td>\n",
       "      <td>6.5145</td>\n",
       "      <td>4.346</td>\n",
       "      <td>5.3960</td>\n",
       "      <td>4.8900</td>\n",
       "      <td>7.0285</td>\n",
       "      <td>3.5155</td>\n",
       "      <td>71.0</td>\n",
       "      <td>Albuquerque</td>\n",
       "    </tr>\n",
       "    <tr>\n",
       "      <th>Anchorage</th>\n",
       "      <td>5.4335</td>\n",
       "      <td>3.141</td>\n",
       "      <td>2.7945</td>\n",
       "      <td>0.000</td>\n",
       "      <td>1.7380</td>\n",
       "      <td>4.71525</td>\n",
       "      <td>8.671</td>\n",
       "      <td>3.4705</td>\n",
       "      <td>8.632667</td>\n",
       "      <td>3.6245</td>\n",
       "      <td>9.27200</td>\n",
       "      <td>6.5145</td>\n",
       "      <td>4.772</td>\n",
       "      <td>4.9645</td>\n",
       "      <td>3.2660</td>\n",
       "      <td>7.0930</td>\n",
       "      <td>5.3580</td>\n",
       "      <td>78.0</td>\n",
       "      <td>Anchorage</td>\n",
       "    </tr>\n",
       "    <tr>\n",
       "      <th>Asheville</th>\n",
       "      <td>5.8560</td>\n",
       "      <td>5.311</td>\n",
       "      <td>3.5405</td>\n",
       "      <td>0.000</td>\n",
       "      <td>1.2095</td>\n",
       "      <td>1.35800</td>\n",
       "      <td>8.671</td>\n",
       "      <td>5.8525</td>\n",
       "      <td>8.921333</td>\n",
       "      <td>3.6245</td>\n",
       "      <td>8.49325</td>\n",
       "      <td>6.5145</td>\n",
       "      <td>4.062</td>\n",
       "      <td>4.7875</td>\n",
       "      <td>5.0630</td>\n",
       "      <td>7.7305</td>\n",
       "      <td>2.2655</td>\n",
       "      <td>87.0</td>\n",
       "      <td>Asheville</td>\n",
       "    </tr>\n",
       "    <tr>\n",
       "      <th>Atlanta</th>\n",
       "      <td>4.9755</td>\n",
       "      <td>5.241</td>\n",
       "      <td>8.8350</td>\n",
       "      <td>7.257</td>\n",
       "      <td>5.2915</td>\n",
       "      <td>3.89775</td>\n",
       "      <td>8.671</td>\n",
       "      <td>2.6725</td>\n",
       "      <td>8.534000</td>\n",
       "      <td>6.4570</td>\n",
       "      <td>5.81775</td>\n",
       "      <td>6.5145</td>\n",
       "      <td>4.204</td>\n",
       "      <td>6.4805</td>\n",
       "      <td>7.7655</td>\n",
       "      <td>4.0620</td>\n",
       "      <td>5.0095</td>\n",
       "      <td>89.0</td>\n",
       "      <td>Atlanta</td>\n",
       "    </tr>\n",
       "    <tr>\n",
       "      <th>Austin</th>\n",
       "      <td>4.3345</td>\n",
       "      <td>5.355</td>\n",
       "      <td>9.2360</td>\n",
       "      <td>6.939</td>\n",
       "      <td>1.8515</td>\n",
       "      <td>4.33050</td>\n",
       "      <td>8.671</td>\n",
       "      <td>5.0690</td>\n",
       "      <td>8.686667</td>\n",
       "      <td>5.3150</td>\n",
       "      <td>7.03075</td>\n",
       "      <td>6.5145</td>\n",
       "      <td>4.772</td>\n",
       "      <td>9.0490</td>\n",
       "      <td>6.6980</td>\n",
       "      <td>6.7895</td>\n",
       "      <td>3.9090</td>\n",
       "      <td>90.0</td>\n",
       "      <td>Austin</td>\n",
       "    </tr>\n",
       "  </tbody>\n",
       "</table>\n",
       "</div>"
      ],
      "text/plain": [
       "             Housing  Cost of Living  Startups  Venture Capital  \\\n",
       "City Name                                                         \n",
       "Albuquerque   7.2620           6.059    3.7720            1.493   \n",
       "Anchorage     5.4335           3.141    2.7945            0.000   \n",
       "Asheville     5.8560           5.311    3.5405            0.000   \n",
       "Atlanta       4.9755           5.241    8.8350            7.257   \n",
       "Austin        4.3345           5.355    9.2360            6.939   \n",
       "\n",
       "             Travel Connectivity  Commute  Business Freedom  Safety  \\\n",
       "City Name                                                             \n",
       "Albuquerque               1.4555  5.05575             8.671  1.3435   \n",
       "Anchorage                 1.7380  4.71525             8.671  3.4705   \n",
       "Asheville                 1.2095  1.35800             8.671  5.8525   \n",
       "Atlanta                   5.2915  3.89775             8.671  2.6725   \n",
       "Austin                    1.8515  4.33050             8.671  5.0690   \n",
       "\n",
       "             Healthcare  Education  Environmental Quality  Economy  Taxation  \\\n",
       "City Name                                                                      \n",
       "Albuquerque    8.508667     4.1520                7.31950   6.5145     4.346   \n",
       "Anchorage      8.632667     3.6245                9.27200   6.5145     4.772   \n",
       "Asheville      8.921333     3.6245                8.49325   6.5145     4.062   \n",
       "Atlanta        8.534000     6.4570                5.81775   6.5145     4.204   \n",
       "Austin         8.686667     5.3150                7.03075   6.5145     4.772   \n",
       "\n",
       "             Internet Access  Leisure & Culture  Tolerance  Outdoors  \\\n",
       "City Name                                                              \n",
       "Albuquerque           5.3960             4.8900     7.0285    3.5155   \n",
       "Anchorage             4.9645             3.2660     7.0930    5.3580   \n",
       "Asheville             4.7875             5.0630     7.7305    2.2655   \n",
       "Atlanta               6.4805             7.7655     4.0620    5.0095   \n",
       "Austin                9.0490             6.6980     6.7895    3.9090   \n",
       "\n",
       "             Graduation Percentage    Locations  \n",
       "City Name                                        \n",
       "Albuquerque                   71.0  Albuquerque  \n",
       "Anchorage                     78.0    Anchorage  \n",
       "Asheville                     87.0    Asheville  \n",
       "Atlanta                       89.0      Atlanta  \n",
       "Austin                        90.0       Austin  "
      ]
     },
     "execution_count": 4,
     "metadata": {},
     "output_type": "execute_result"
    }
   ],
   "source": [
    "us_data.head()"
   ]
  },
  {
   "cell_type": "code",
   "execution_count": 5,
   "metadata": {},
   "outputs": [],
   "source": [
    "us_data1 = us_data[['Safety', 'Graduation Percentage']]"
   ]
  },
  {
   "cell_type": "code",
   "execution_count": 6,
   "metadata": {},
   "outputs": [
    {
     "data": {
      "text/plain": [
       "<matplotlib.axes._subplots.AxesSubplot at 0x1a204141d0>"
      ]
     },
     "execution_count": 6,
     "metadata": {},
     "output_type": "execute_result"
    },
    {
     "data": {
      "image/png": "[encoded data removed]",
      "text/plain": [
       "<Figure size 720x576 with 1 Axes>"
      ]
     },
     "metadata": {},
     "output_type": "display_data"
    }
   ],
   "source": [
    "plt.figure(figsize = (10,8))\n",
    "sns.regplot(us_data1['Safety'], us_data1['Graduation Percentage'])"
   ]
  },
  {
   "cell_type": "code",
   "execution_count": 7,
   "metadata": {},
   "outputs": [
    {
     "data": {
      "text/plain": [
       "Ttest_indResult(statistic=2.0455028784996223, pvalue=0.04519720052028632)"
      ]
     },
     "execution_count": 7,
     "metadata": {},
     "output_type": "execute_result"
    }
   ],
   "source": [
    "scipy.stats.ttest_ind(us_data[us_data['Safety'] > us_data['Safety'].median()]['Graduation Percentage'], us_data[us_data['Safety'] < us_data['Safety'].median()]['Graduation Percentage'])\n"
   ]
  },
  {
   "cell_type": "code",
   "execution_count": 10,
   "metadata": {},
   "outputs": [
    {
     "data": {
      "text/plain": [
       "<matplotlib.axes._subplots.AxesSubplot at 0x1a22a935c0>"
      ]
     },
     "execution_count": 10,
     "metadata": {},
     "output_type": "execute_result"
    },
    {
     "data": {
      "image/png": "[encoded data removed]",
      "text/plain": [
       "<Figure size 720x576 with 1 Axes>"
      ]
     },
     "metadata": {},
     "output_type": "display_data"
    }
   ],
   "source": [
    "us_data2 = us_data[['Environmental Quality', 'Graduation Percentage']]\n",
    "plt.figure(figsize = (10,8))\n",
    "sns.regplot(us_data2['Environmental Quality'], us_data2['Graduation Percentage'])"
   ]
  },
  {
   "cell_type": "code",
   "execution_count": 11,
   "metadata": {},
   "outputs": [
    {
     "data": {
      "text/plain": [
       "Ttest_indResult(statistic=-0.22089023355296838, pvalue=0.8259278707730643)"
      ]
     },
     "execution_count": 11,
     "metadata": {},
     "output_type": "execute_result"
    }
   ],
   "source": [
    "scipy.stats.ttest_ind(us_data[us_data['Environmental Quality'] > us_data['Environmental Quality'].median()]['Graduation Percentage'], us_data[us_data['Environmental Quality'] < us_data['Environmental Quality'].median()]['Graduation Percentage'])\n"
   ]
  },
  {
   "cell_type": "code",
   "execution_count": 13,
   "metadata": {},
   "outputs": [
    {
     "data": {
      "text/plain": [
       "<matplotlib.axes._subplots.AxesSubplot at 0x1a22ad2710>"
      ]
     },
     "execution_count": 13,
     "metadata": {},
     "output_type": "execute_result"
    },
    {
     "data": {
      "image/png": "[encoded data removed]",
      "text/plain": [
       "<Figure size 720x576 with 1 Axes>"
      ]
     },
     "metadata": {},
     "output_type": "display_data"
    }
   ],
   "source": [
    "us_data3 = us_data[['Healthcare', 'Graduation Percentage']]\n",
    "plt.figure(figsize = (10,8))\n",
    "sns.regplot(us_data3['Healthcare'], us_data3['Graduation Percentage'])"
   ]
  },
  {
   "cell_type": "code",
   "execution_count": 14,
   "metadata": {},
   "outputs": [
    {
     "data": {
      "text/plain": [
       "Ttest_indResult(statistic=0.19122095081106824, pvalue=0.8489981041057398)"
      ]
     },
     "execution_count": 14,
     "metadata": {},
     "output_type": "execute_result"
    }
   ],
   "source": [
    "scipy.stats.ttest_ind(us_data[us_data['Healthcare'] > us_data['Healthcare'].median()]['Graduation Percentage'], us_data[us_data['Healthcare'] < us_data['Safety'].median()]['Graduation Percentage'])\n"
   ]
  },
  {
   "cell_type": "code",
   "execution_count": 15,
   "metadata": {},
   "outputs": [
    {
     "data": {
      "text/plain": [
       "Ttest_indResult(statistic=-0.0780619272850029, pvalue=0.93803854210055)"
      ]
     },
     "execution_count": 15,
     "metadata": {},
     "output_type": "execute_result"
    }
   ],
   "source": [
    "scipy.stats.ttest_ind(us_data[us_data['Cost of Living'] > us_data['Cost of Living'].median()]['Graduation Percentage'], us_data[us_data['Cost of Living'] < us_data['Cost of Living'].median()]['Graduation Percentage'])\n"
   ]
  },
  {
   "cell_type": "code",
   "execution_count": 16,
   "metadata": {},
   "outputs": [
    {
     "data": {
      "text/plain": [
       "Ttest_indResult(statistic=0.4882561644518207, pvalue=0.6271480957261129)"
      ]
     },
     "execution_count": 16,
     "metadata": {},
     "output_type": "execute_result"
    }
   ],
   "source": [
    "scipy.stats.ttest_ind(us_data[us_data['Internet Access'] > us_data['Internet Access'].median()]['Graduation Percentage'], us_data[us_data['Internet Access'] < us_data['Internet Access'].median()]['Graduation Percentage'])\n"
   ]
  },
  {
   "cell_type": "code",
   "execution_count": 17,
   "metadata": {},
   "outputs": [
    {
     "data": {
      "text/plain": [
       "Ttest_indResult(statistic=0.9781990370471311, pvalue=0.33190365120081256)"
      ]
     },
     "execution_count": 17,
     "metadata": {},
     "output_type": "execute_result"
    }
   ],
   "source": [
    "scipy.stats.ttest_ind(us_data[us_data['Leisure & Culture'] > us_data['Leisure & Culture'].median()]['Graduation Percentage'], us_data[us_data['Leisure & Culture'] < us_data['Leisure & Culture'].median()]['Graduation Percentage'])\n"
   ]
  },
  {
   "cell_type": "code",
   "execution_count": null,
   "metadata": {},
   "outputs": [],
   "source": []
  }
 ],
 "metadata": {
  "kernelspec": {
   "display_name": "Python 3",
   "language": "python",
   "name": "python3"
  },
  "language_info": {
   "codemirror_mode": {
    "name": "ipython",
    "version": 3
   },
   "file_extension": ".py",
   "mimetype": "text/x-python",
   "name": "python",
   "nbconvert_exporter": "python",
   "pygments_lexer": "ipython3",
   "version": "3.6.5"
  }
 },
 "nbformat": 4,
 "nbformat_minor": 2
}
